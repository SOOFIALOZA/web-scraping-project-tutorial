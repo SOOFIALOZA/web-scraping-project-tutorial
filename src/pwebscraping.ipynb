{
 "cells": [
  {
   "cell_type": "code",
   "execution_count": 6,
   "metadata": {},
   "outputs": [
    {
     "data": {
      "text/plain": [
       "'<html>\\n<head>\\n<title>Profile: Aphrodite</title>\\n</head>\\n<body bgcolor=\"yellow\">\\n<center>\\n<br><br>\\n<img src=\"/static/aphrodite.gif\" />\\n<h2>Name: Aphrodite</h2>\\n<br><br>\\nFavorite animal: Dove\\n<br><br>\\nFavorite color: Red\\n<br><br>\\nHometown: Mount Olympus\\n</center>\\n</body>\\n</html>\\n'"
      ]
     },
     "execution_count": 6,
     "metadata": {},
     "output_type": "execute_result"
    }
   ],
   "source": [
    "from bs4 import BeautifulSoup as bs\n",
    "import requests\n",
    "import time\n",
    "# 1 OBTENER EL TEXTO HTML DE LA WEB\n",
    "url = \"http://olympus.realpython.org/profiles/aphrodite\"\n",
    "page = requests.get(url)\n",
    "html_string = page.text\n",
    "html_string"
   ]
  },
  {
   "cell_type": "code",
   "execution_count": 14,
   "metadata": {},
   "outputs": [
    {
     "name": "stdout",
     "output_type": "stream",
     "text": [
      "<html>\n",
      " <head>\n",
      "  <title>\n",
      "   Profile: Aphrodite\n",
      "  </title>\n",
      " </head>\n",
      " <body bgcolor=\"yellow\">\n",
      "  <center>\n",
      "   <br/>\n",
      "   <br/>\n",
      "   <img src=\"/static/aphrodite.gif\"/>\n",
      "   <h2>\n",
      "    Name: Aphrodite\n",
      "   </h2>\n",
      "   <br/>\n",
      "   <br/>\n",
      "   Favorite animal: Dove\n",
      "   <br/>\n",
      "   <br/>\n",
      "   Favorite color: Red\n",
      "   <br/>\n",
      "   <br/>\n",
      "   Hometown: Mount Olympus\n",
      "  </center>\n",
      " </body>\n",
      "</html>\n",
      "\n"
     ]
    }
   ],
   "source": [
    "# 2 TRANSFORMAR EL TEXTO HTML EN UN OBJEETO HTML\n",
    "# COMO USAMOS BEAUTIFULSOUP USAMOS BS\n",
    "from bs4 import BeautifulSoup as bs\n",
    "bs(html_string, \"html.parser\")\n",
    "# para que se vea con las tabulaciones\n",
    "soup = bs(html_string, \"html.parser\")\n",
    "print (soup.prettify())\n"
   ]
  },
  {
   "cell_type": "code",
   "execution_count": 20,
   "metadata": {},
   "outputs": [
    {
     "name": "stdout",
     "output_type": "stream",
     "text": [
      "[<img src=\"/static/aphrodite.gif\"/>]\n",
      "<img src=\"/static/aphrodite.gif\"/>\n",
      "<img src=\"/static/aphrodite.gif\"/>\n"
     ]
    }
   ],
   "source": [
    "# EXTRAER INFO\n",
    "\n",
    "# Sacar todas las imagenes , en este caso solo hay una imagen en la pagina web\n",
    "\n",
    "all_images = soup.find_all(\"img\")\n",
    "print ( all_images)\n",
    "\n",
    "# sacar la primera imagen que aparece\n",
    "\n",
    "first_image = soup.find(\"img\")\n",
    "print(first_image)\n",
    "\n",
    "# sacar la ultima imagen , en este caso solo hay  una imagen\n",
    "\n",
    "last_image = soup.find_all(\"img\")[-1]\n",
    "print(last_image)\n",
    "# si quiero sacar una imagen concreta nos tenemos que fijar en las clases y en los id\n"
   ]
  }
 ],
 "metadata": {
  "kernelspec": {
   "display_name": "Python 3",
   "language": "python",
   "name": "python3"
  },
  "language_info": {
   "codemirror_mode": {
    "name": "ipython",
    "version": 3
   },
   "file_extension": ".py",
   "mimetype": "text/x-python",
   "name": "python",
   "nbconvert_exporter": "python",
   "pygments_lexer": "ipython3",
   "version": "3.11.4"
  }
 },
 "nbformat": 4,
 "nbformat_minor": 2
}
